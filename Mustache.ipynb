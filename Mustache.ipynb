{
 "cells": [
  {
   "cell_type": "code",
   "execution_count": null,
   "metadata": {
    "collapsed": false
   },
   "outputs": [],
   "source": [
    "import cv2  # OpenCV Library\n",
    "cv2.__version__"
   ]
  },
  {
   "cell_type": "code",
   "execution_count": null,
   "metadata": {
    "collapsed": false
   },
   "outputs": [],
   "source": [
    "#-----------------------------------------------------------------------------\n",
    "#       Load and configure Haar Cascade Classifiers\n",
    "#-----------------------------------------------------------------------------\n",
    " \n",
    "# location of OpenCV Haar Cascade Classifiers:\n",
    "#baseCascadePath = \"OpenCV/haarcascades/\"\n",
    " \n",
    "# xml files describing our haar cascade classifiers\n",
    "faceCascadeFilePath = \"./haarcascade_frontalface_default.xml\"\n",
    "noseCascadeFilePath = \"./haarcascade_mcs_nose.xml\" ## need to download this and put it in local (same with face)\n",
    " \n",
    "# build our cv2 Cascade Classifiers\n",
    "faceCascade = cv2.CascadeClassifier(faceCascadeFilePath)\n",
    "noseCascade = cv2.CascadeClassifier(noseCascadeFilePath)"
   ]
  },
  {
   "cell_type": "markdown",
   "metadata": {},
   "source": [
    "## RenderableImage Base Class\n",
    "\n",
    "This is a generic renderable image. It is able to be loaded and has a render method. The individual child classes have to implement their own methods for updating their location since the position of a hat and a position of a mustache are fundamentally different."
   ]
  },
  {
   "cell_type": "code",
   "execution_count": null,
   "metadata": {
    "collapsed": false
   },
   "outputs": [],
   "source": [
    "class RenderableImage:\n",
    "    def __init__(self, img_path):\n",
    "        img = cv2.imread(img_path, -1)\n",
    "        self.bgr_img = img[:, :, 0:3]       \n",
    "        self.mask = img[:, :, 3]\n",
    "        self.mask_inv = cv2.bitwise_not(self.mask)\n",
    "        \n",
    "        original_height, original_width = img.shape[:2]\n",
    "        self.original_height = original_height\n",
    "        self.original_width = original_width\n",
    "        print(self)\n",
    "    \n",
    "    def render(self, width, height, roi_color):\n",
    "        image = self.bgr_img\n",
    "        mask = self.mask\n",
    "        mask_inv = self.mask_inv\n",
    "        \n",
    "        image_resize = cv2.resize(image, (width,height), interpolation = cv2.INTER_AREA)\n",
    "        mask_resize = cv2.resize(mask, (width,height), interpolation = cv2.INTER_AREA)\n",
    "        mask_inv_resize = cv2.resize(mask_inv, (width,height), interpolation = cv2.INTER_AREA)\n",
    "        \n",
    "        x1, x2, y1, y2 = self.dimensions\n",
    "        if y1 > 0:\n",
    "            roi = roi_color[y1:y2, x1:x2]\n",
    "\n",
    "            roi_bg = cv2.bitwise_and(roi,roi,mask = mask_inv_resize)\n",
    "            roi_fg = cv2.bitwise_and(image_resize,image_resize, mask = mask_resize)\n",
    "\n",
    "            dst = cv2.add(roi_bg,roi_fg)\n",
    "            roi_color[y1:y2, x1:x2] = dst"
   ]
  },
  {
   "cell_type": "markdown",
   "metadata": {},
   "source": [
    "## HatImage Class"
   ]
  },
  {
   "cell_type": "code",
   "execution_count": null,
   "metadata": {
    "collapsed": true
   },
   "outputs": [],
   "source": [
    "class HatImage(RenderableImage):\n",
    "    def calculate_dimensions(self, x, y, w, h):\n",
    "        x1 = 0\n",
    "        x2 = int(w)\n",
    "        y1 = 0\n",
    "        y2 = int(h/2)\n",
    "\n",
    "        hat_width = x2 - x1\n",
    "        hat_height = y2 - y1\n",
    "        self.dimensions = [x, x+w, y-hat_height, y]\n",
    "        return hat_width, hat_height"
   ]
  },
  {
   "cell_type": "markdown",
   "metadata": {},
   "source": [
    "## MustacheImage Class"
   ]
  },
  {
   "cell_type": "code",
   "execution_count": null,
   "metadata": {
    "collapsed": true
   },
   "outputs": [],
   "source": [
    "class MustacheImage(RenderableImage):\n",
    "    def calculate_dimensions(self, x, y, w, h, clip_width, clip_height):\n",
    "        mustacheWidth =  3 * w\n",
    "        mustacheHeight = mustacheWidth * self.original_height / self.original_width\n",
    "\n",
    "        # Center the mustache on the bottom of the nose\n",
    "        x1 = int(x - (mustacheWidth/4))\n",
    "        x2 = int(x + w + (mustacheWidth/4))\n",
    "        y1 = int(y + h - (mustacheHeight/2))\n",
    "        y2 = int(y + h + (mustacheHeight/2))\n",
    "\n",
    "        # Check for clipping\n",
    "        if x1 < 0:\n",
    "            x1 = 0\n",
    "        if y1 < 0:\n",
    "            y1 = 0\n",
    "        if x2 > clip_width:\n",
    "            x2 = clip_width\n",
    "        if y2 > clip_height:\n",
    "            y2 = clip_height\n",
    "\n",
    "        # Re-calculate the width and height of the mustache image\n",
    "        mustacheWidth = x2 - x1 \n",
    "        mustacheHeight = y2 - y1\n",
    "        self.dimensions = (x1, x2, y1, y2)\n",
    "        return mustacheWidth, mustacheHeight"
   ]
  },
  {
   "cell_type": "code",
   "execution_count": null,
   "metadata": {
    "collapsed": false
   },
   "outputs": [],
   "source": [
    "mustache = MustacheImage('./mustache.png')\n",
    "hat = HatImage('./harvard_hat.png')"
   ]
  },
  {
   "cell_type": "code",
   "execution_count": null,
   "metadata": {
    "collapsed": false
   },
   "outputs": [],
   "source": [
    "video_capture = cv2.VideoCapture(0)\n",
    " \n",
    "while True:\n",
    "    ret, frame = video_capture.read()\n",
    "    gray = cv2.cvtColor(frame, cv2.COLOR_BGR2GRAY)\n",
    "    faces = faceCascade.detectMultiScale(\n",
    "        gray,\n",
    "        scaleFactor=1.1,\n",
    "        minNeighbors=5,\n",
    "        minSize=(30, 30),\n",
    "        flags = 0\n",
    "        #flags=cv2.CASCADE_SCALE_IMAGE\n",
    "        #flags=cv2.cv.CV_HAAR_SCALE_IMAGE\n",
    "    )\n",
    "    for (x, y, w, h) in faces:\n",
    "        # Un-comment the next line for debug (draw box around all faces)\n",
    "        face = cv2.rectangle(frame,(x,y),(x+w,y+h),(255,0,0),2)\n",
    "        roi_gray = gray[y:y+h, x:x+w]\n",
    "        roi_color = frame[y:y+h, x:x+w]\n",
    "        # Detect a nose within the region bounded by each face (the ROI)\n",
    "        nose = noseCascade.detectMultiScale(roi_gray)\n",
    "        for (nx,ny,nw,nh) in nose:\n",
    "            # Un-comment the next line for debug (draw box around the nose)\n",
    "            #cv2.rectangle(roi_color,(nx,ny),(nx+nw,ny+nh),(255,0,0),2)\n",
    "            \n",
    "            width, height = mustache.calculate_dimensions(\n",
    "                nx, ny, nw, nh, clip_width=w, clip_height=h\n",
    "            )\n",
    "            mustache.render(width, height, roi_color)\n",
    "            \n",
    "            hat_width, hat_height = hat.calculate_dimensions(x, y, w, h)\n",
    "            hat.render(hat_width, hat_height, frame)\n",
    "            break\n",
    " \n",
    "    # Display the resulting frame\n",
    "    cv2.imshow('Video', frame)\n",
    " \n",
    "    # press any key to exit\n",
    "    # NOTE;  x86 systems may need to remove: \"0xFF == ord('q')\"\n",
    "    if cv2.waitKey(1) & 0xFF == ord('q'):\n",
    "        break\n",
    " \n",
    "# When everything is done, release the capture\n",
    "video_capture.release()\n",
    "cv2.destroyAllWindows()"
   ]
  },
  {
   "cell_type": "code",
   "execution_count": null,
   "metadata": {
    "collapsed": true
   },
   "outputs": [],
   "source": [
    "# When everything is done, release the capture\n",
    "video_capture.release()\n",
    "cv2.destroyAllWindows()"
   ]
  },
  {
   "cell_type": "code",
   "execution_count": null,
   "metadata": {
    "collapsed": true
   },
   "outputs": [],
   "source": []
  }
 ],
 "metadata": {
  "anaconda-cloud": {},
  "kernelspec": {
   "display_name": "Python [default]",
   "language": "python",
   "name": "python3"
  },
  "language_info": {
   "codemirror_mode": {
    "name": "ipython",
    "version": 3
   },
   "file_extension": ".py",
   "mimetype": "text/x-python",
   "name": "python",
   "nbconvert_exporter": "python",
   "pygments_lexer": "ipython3",
   "version": "3.5.2"
  }
 },
 "nbformat": 4,
 "nbformat_minor": 0
}
